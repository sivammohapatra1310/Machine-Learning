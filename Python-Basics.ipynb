{
  "nbformat": 4,
  "nbformat_minor": 0,
  "metadata": {
    "colab": {
      "provenance": [],
      "authorship_tag": "ABX9TyNCy4cALhh6x4DHe2D9EkMV",
      "include_colab_link": true
    },
    "kernelspec": {
      "name": "python3",
      "display_name": "Python 3"
    },
    "language_info": {
      "name": "python"
    }
  },
  "cells": [
    {
      "cell_type": "markdown",
      "metadata": {
        "id": "view-in-github",
        "colab_type": "text"
      },
      "source": [
        "<a href=\"https://colab.research.google.com/github/sivammohapatra1310/Machine-Learning/blob/main/Python-Basics.ipynb\" target=\"_parent\"><img src=\"https://colab.research.google.com/assets/colab-badge.svg\" alt=\"Open In Colab\"/></a>"
      ]
    },
    {
      "cell_type": "code",
      "execution_count": null,
      "metadata": {
        "colab": {
          "base_uri": "https://localhost:8080/"
        },
        "id": "1GGdxTsl5BMX",
        "outputId": "8e9f961d-783e-4fff-ea92-8e03475f9bda"
      },
      "outputs": [
        {
          "output_type": "stream",
          "name": "stdout",
          "text": [
            "Enter a number: 10\n",
            "10\n",
            "100\n"
          ]
        }
      ],
      "source": [
        "# prompt: take input for a number\n",
        "\n",
        "x = int(input(\"Enter a number: \"))\n",
        "print(x)\n",
        "print(x*x)"
      ]
    },
    {
      "cell_type": "code",
      "source": [
        "print('Sivam is staring Machine Learning')"
      ],
      "metadata": {
        "colab": {
          "base_uri": "https://localhost:8080/"
        },
        "id": "aWgyteda8YCZ",
        "outputId": "186ba187-ee9f-4f1b-902e-9bb71e6ac20a"
      },
      "execution_count": null,
      "outputs": [
        {
          "output_type": "stream",
          "name": "stdout",
          "text": [
            "Sivam is staring Machine Learning\n"
          ]
        }
      ]
    },
    {
      "cell_type": "code",
      "source": [
        "True or False"
      ],
      "metadata": {
        "colab": {
          "base_uri": "https://localhost:8080/"
        },
        "id": "tQm2HwFi5HdY",
        "outputId": "488e4fe7-0b57-4cc3-a08b-4b51bcde0540"
      },
      "execution_count": null,
      "outputs": [
        {
          "output_type": "execute_result",
          "data": {
            "text/plain": [
              "True"
            ]
          },
          "metadata": {},
          "execution_count": 7
        }
      ]
    },
    {
      "cell_type": "code",
      "source": [
        "'Sivam'.isalnum()"
      ],
      "metadata": {
        "colab": {
          "base_uri": "https://localhost:8080/"
        },
        "id": "LCJRklnD8d88",
        "outputId": "9a219cfe-de16-4548-ccd3-d2fb67670319"
      },
      "execution_count": null,
      "outputs": [
        {
          "output_type": "execute_result",
          "data": {
            "text/plain": [
              "True"
            ]
          },
          "metadata": {},
          "execution_count": 8
        }
      ]
    },
    {
      "cell_type": "code",
      "source": [
        "#lists\n",
        "type([])\n",
        "a=['Sivam', 'Mohapatra']\n",
        "a[0:2]\n",
        "a[1:2]\n",
        "a.insert(1, 'Rajguru') #success\n",
        "a.extend([18, 7])\n",
        "print(a)"
      ],
      "metadata": {
        "colab": {
          "base_uri": "https://localhost:8080/"
        },
        "id": "7OiV4iqJ81ST",
        "outputId": "b4e63db5-a021-400e-9c83-220f1f37c769"
      },
      "execution_count": null,
      "outputs": [
        {
          "output_type": "stream",
          "name": "stdout",
          "text": [
            "['Sivam', 'Rajguru', 'Mohapatra']\n"
          ]
        }
      ]
    },
    {
      "cell_type": "markdown",
      "source": [
        "new functions\n",
        "lst.pop(<x>)\n",
        "lst.index(x, start, end)\n",
        "sum(lst) max(lst) min(lst)\n",
        "lst.count(x)\n",
        "lst*2\n",
        "\n",
        "*   List item\n",
        "*   List item\n",
        "\n"
      ],
      "metadata": {
        "id": "4q01uduevghD"
      }
    },
    {
      "cell_type": "code",
      "source": [
        "set_var={\"Sivam\", \"Mohapatra\"}\n",
        "print(set_var)\n",
        "set_var.add(\"King\")\n",
        "set_var.difference(set_var)#doesnt update\n",
        "set_var.intersection(set_var)\n",
        "set_var.difference_update(set_var)\n",
        "print(set_var)\n"
      ],
      "metadata": {
        "colab": {
          "base_uri": "https://localhost:8080/"
        },
        "id": "DfOMIGQHRty9",
        "outputId": "be41e173-a5b5-4a71-eed8-c944a151de14"
      },
      "execution_count": null,
      "outputs": [
        {
          "output_type": "stream",
          "name": "stdout",
          "text": [
            "{'Sivam', 'Mohapatra'}\n",
            "set()\n"
          ]
        }
      ]
    },
    {
      "cell_type": "code",
      "source": [
        "dic={1:\"sivam\", 2:\"mohapatra\"}\n",
        "for x in dic:\n",
        "  print(x, dic[x])\n",
        "print()\n",
        "for x in dic.values():\n",
        "  print(x)\n",
        "for x in dic.items():\n",
        "  print(x)\n",
        "dic[3]=\"king\"\n",
        "print(dic)\n",
        "dic[3]={3:\"maharaja\"}\n",
        "print(dic[3][3])"
      ],
      "metadata": {
        "colab": {
          "base_uri": "https://localhost:8080/"
        },
        "id": "qGz54Y_aSsog",
        "outputId": "c6699094-3987-4f14-9780-e3120c9b9a12"
      },
      "execution_count": null,
      "outputs": [
        {
          "output_type": "stream",
          "name": "stdout",
          "text": [
            "1 sivam\n",
            "2 mohapatra\n",
            "\n",
            "sivam\n",
            "mohapatra\n",
            "(1, 'sivam')\n",
            "(2, 'mohapatra')\n",
            "{1: 'sivam', 2: 'mohapatra', 3: 'king'}\n",
            "maharaja\n"
          ]
        }
      ]
    },
    {
      "cell_type": "code",
      "source": [
        "#tuple values can't be changed\n",
        "ytup=(\"Sivam\", \"mohapatra\")\n",
        "print(ytup);\n",
        "ytup.count(\"mohapatra\")\n",
        "ytup.index(\"mohapatra\")"
      ],
      "metadata": {
        "colab": {
          "base_uri": "https://localhost:8080/"
        },
        "id": "J9m9MGMuT4OL",
        "outputId": "68773dff-2eaf-46e3-b6d8-930422dcd33b"
      },
      "execution_count": null,
      "outputs": [
        {
          "output_type": "stream",
          "name": "stdout",
          "text": [
            "('Sivam', 'mohapatra')\n"
          ]
        },
        {
          "output_type": "execute_result",
          "data": {
            "text/plain": [
              "1"
            ]
          },
          "metadata": {},
          "execution_count": 11
        }
      ]
    },
    {
      "cell_type": "markdown",
      "source": [
        "# **NUMPY**"
      ],
      "metadata": {
        "id": "bP89smwuVECA"
      }
    },
    {
      "cell_type": "code",
      "source": [
        "import numpy as np"
      ],
      "metadata": {
        "id": "2z_sMKE9VJA7"
      },
      "execution_count": 2,
      "outputs": []
    },
    {
      "cell_type": "code",
      "source": [
        "lst=[1,2,3,4,5]\n",
        "arr=np.array(lst)\n",
        "print(type(arr))\n",
        "print(arr)\n",
        "print(arr.shape)#dimensions\n",
        "arr=np.array([lst, lst]);\n",
        "print(type(arr))\n",
        "print(arr)\n",
        "print(arr.shape)#dimensions\n",
        "print(np.version)"
      ],
      "metadata": {
        "colab": {
          "base_uri": "https://localhost:8080/"
        },
        "id": "0yq9zZDtWAWq",
        "outputId": "8e4acbde-2fd3-4f5d-a10f-0a994338fa93"
      },
      "execution_count": 3,
      "outputs": [
        {
          "output_type": "stream",
          "name": "stdout",
          "text": [
            "<class 'numpy.ndarray'>\n",
            "[1 2 3 4 5]\n",
            "(5,)\n",
            "<class 'numpy.ndarray'>\n",
            "[[1 2 3 4 5]\n",
            " [1 2 3 4 5]]\n",
            "(2, 5)\n",
            "<module 'numpy.version' from '/usr/local/lib/python3.10/dist-packages/numpy/version.py'>\n"
          ]
        }
      ]
    },
    {
      "cell_type": "code",
      "source": [
        "import numpy as np\n",
        "\n",
        "arr = np.array([[1,2,3,4,5], [6,7,8,9,10]])\n",
        "\n",
        "print('2nd element on 1st row: ', arr[0, 1])\n",
        "print('2nd element on 2nd row: ', arr[1][1])\n",
        "\n",
        "print('Last element on 1st row: ', arr[0][-1])\n",
        "\n",
        "arr = np.array([1, 2, 3, 4, 5, 6, 7])\n",
        "print(arr[1:5])\n",
        "print(arr[-3:-1])\n",
        "print()\n",
        "arr = np.array([[1, 2, 3, 4, 5], [6, 7, 8, 9, 10]])\n",
        "print(arr[1, 1:4:2])\n",
        "print(arr[0:2, 2])"
      ],
      "metadata": {
        "colab": {
          "base_uri": "https://localhost:8080/"
        },
        "id": "z2Pb6jDbONdm",
        "outputId": "3d1db8ff-b864-4750-d5c8-f447ff129e4e"
      },
      "execution_count": 2,
      "outputs": [
        {
          "output_type": "stream",
          "name": "stdout",
          "text": [
            "2nd element on 1st row:  2\n",
            "2nd element on 2nd row:  7\n",
            "Last element on 1st row:  5\n",
            "[2 3 4 5]\n",
            "[5 6]\n",
            "\n",
            "[7 9]\n",
            "[3 8]\n"
          ]
        }
      ]
    },
    {
      "cell_type": "code",
      "source": [
        "arr = np.array([1, 2, 3, 4, 5])\n",
        "x = arr.copy()\n",
        "y = arr.view()\n",
        "arr[0] = 42\n",
        "y[1]=90\n",
        "print(arr)\n",
        "print(x)\n",
        "print(y)\n",
        "print(x.base)\n",
        "print(y.base)"
      ],
      "metadata": {
        "colab": {
          "base_uri": "https://localhost:8080/"
        },
        "id": "CtCTRVfxW55n",
        "outputId": "c614001f-9551-4e12-fe9b-40ac9d0a5864"
      },
      "execution_count": 3,
      "outputs": [
        {
          "output_type": "stream",
          "name": "stdout",
          "text": [
            "[42 90  3  4  5]\n",
            "[1 2 3 4 5]\n",
            "[42 90  3  4  5]\n",
            "None\n",
            "[42 90  3  4  5]\n"
          ]
        }
      ]
    },
    {
      "cell_type": "code",
      "source": [
        "arr = np.array([1, 2, 3, 4, 5, 6, 7, 8])\n",
        "\n",
        "print(arr.reshape(2, 4))\n",
        "\n",
        "arr = np.array([[1, 2, 3], [4, 5, 6]])\n",
        "\n",
        "newarr = arr.reshape(-1) #for flattening the array\n",
        "\n",
        "print(newarr)"
      ],
      "metadata": {
        "colab": {
          "base_uri": "https://localhost:8080/"
        },
        "id": "2KAOzwcPcwtn",
        "outputId": "ce97fc4a-04b4-4eac-bd48-c7eba1a846e3"
      },
      "execution_count": 5,
      "outputs": [
        {
          "output_type": "stream",
          "name": "stdout",
          "text": [
            "[[1 2 3 4]\n",
            " [5 6 7 8]]\n"
          ]
        }
      ]
    },
    {
      "cell_type": "code",
      "source": [
        "import numpy as np\n",
        "\n",
        "arr = np.array([[[1, 2], [3, 4]], [[5, 6], [7, 8]]])\n",
        "\n",
        "for x in np.nditer(arr):\n",
        "  print(x)\n",
        "\n",
        "for idx, x in np.ndenumerate(arr):\n",
        "  print(idx, x)"
      ],
      "metadata": {
        "colab": {
          "base_uri": "https://localhost:8080/"
        },
        "id": "zE4Z0yW--KnI",
        "outputId": "51497697-1b49-4577-9d90-056a28ced29f"
      },
      "execution_count": 2,
      "outputs": [
        {
          "output_type": "stream",
          "name": "stdout",
          "text": [
            "1\n",
            "2\n",
            "3\n",
            "4\n",
            "5\n",
            "6\n",
            "7\n",
            "8\n",
            "(0, 0, 0) 1\n",
            "(0, 0, 1) 2\n",
            "(0, 1, 0) 3\n",
            "(0, 1, 1) 4\n",
            "(1, 0, 0) 5\n",
            "(1, 0, 1) 6\n",
            "(1, 1, 0) 7\n",
            "(1, 1, 1) 8\n"
          ]
        }
      ]
    },
    {
      "cell_type": "code",
      "source": [
        "import numpy as np\n",
        "arr= np.array([1,2,2,3])\n",
        "print(arr<=1)\n",
        "print(arr*2)\n",
        "print(arr[arr<3])\n",
        "print(np.ones(4, dtype=int))\n",
        "print(np.random.rand(3, 3))\n",
        "print(np.random.randn(3, 3))\n",
        "print(np.random.randint(1, 1000, 10))\n",
        "\n",
        "print()\n",
        "\n",
        "arr = np.array([41, 42, 43, 44])\n",
        "filter_arr = arr > 42\n",
        "newarr = arr[filter_arr]\n",
        "print(filter_arr)\n",
        "print(newarr)"
      ],
      "metadata": {
        "colab": {
          "base_uri": "https://localhost:8080/"
        },
        "id": "qYClU6UoGU2S",
        "outputId": "ce086efc-d7de-4d39-ff91-49f8e0f42109"
      },
      "execution_count": 12,
      "outputs": [
        {
          "output_type": "stream",
          "name": "stdout",
          "text": [
            "[ True False False False]\n",
            "[2 4 4 6]\n",
            "[1 2 2]\n",
            "[1 1 1 1]\n",
            "[[0.26045501 0.94327342 0.21790419]\n",
            " [0.47762713 0.32803504 0.40625526]\n",
            " [0.89543982 0.81978391 0.43600552]]\n",
            "[[ 0.01052809 -1.06361562 -0.31739772]\n",
            " [-0.20717866  0.71007086  0.1439829 ]\n",
            " [ 0.74549306  1.17890899 -0.76613182]]\n",
            "[712 359 247 568 407 683 101 946 411 258]\n",
            "\n",
            "[False False  True  True]\n",
            "[43 44]\n"
          ]
        }
      ]
    },
    {
      "cell_type": "code",
      "source": [
        "from numpy import random as r\n",
        "print(r.randint(200), r.rand()*200 )\n",
        "x = r.randint(100, size=(3, 5))\n",
        "print(x)\n",
        "print()\n",
        "\n",
        "x = r.rand(5)\n",
        "print(x)"
      ],
      "metadata": {
        "colab": {
          "base_uri": "https://localhost:8080/"
        },
        "id": "ckWBiOLrZlBk",
        "outputId": "b710fd85-1b1a-47ee-c33d-764ad23f0c90"
      },
      "execution_count": 23,
      "outputs": [
        {
          "output_type": "stream",
          "name": "stdout",
          "text": [
            "63 192.8455550571601\n",
            "[[ 6 18 65 84 23]\n",
            " [24 24 11 15 85]\n",
            " [37  1  4 52 92]]\n",
            "\n",
            "[0.06683727 0.77697366 0.67224156 0.88975985 0.14917386]\n"
          ]
        }
      ]
    },
    {
      "cell_type": "markdown",
      "source": [
        "***PANDAS***\n"
      ],
      "metadata": {
        "id": "gnxcsF4gb23l"
      }
    },
    {
      "cell_type": "code",
      "source": [
        "import pandas as pd\n",
        "# pd.DataFrame(np.arange)\n",
        "a = [1, 7, 2]\n",
        "myvar = pd.Series(a)\n",
        "print(myvar)\n",
        "print()\n",
        "myvar = pd.Series(a, index = [\"x\", \"y\", \"z\"])\n",
        "print(myvar)\n",
        "print()\n",
        "calories = {\"day1\": 420, \"day2\": 380, \"day3\": 390}\n",
        "myvar = pd.Series(calories)\n",
        "print(myvar)\n",
        "print()\n",
        "calories = {\"day1\": 420, \"day2\": 380, \"day3\": 390}\n",
        "myvar = pd.Series(calories, index = [\"day1\", \"day2\"]) #creating from only a part of the set\n",
        "print(myvar)\n",
        "print()\n",
        "\n"
      ],
      "metadata": {
        "colab": {
          "base_uri": "https://localhost:8080/"
        },
        "id": "UW6675cib9kl",
        "outputId": "3b2272c1-eec9-43a3-cf8c-da07d63c61b9"
      },
      "execution_count": 3,
      "outputs": [
        {
          "output_type": "stream",
          "name": "stdout",
          "text": [
            "0    1\n",
            "1    7\n",
            "2    2\n",
            "dtype: int64\n",
            "\n",
            "x    1\n",
            "y    7\n",
            "z    2\n",
            "dtype: int64\n",
            "\n",
            "day1    420\n",
            "day2    380\n",
            "day3    390\n",
            "dtype: int64\n",
            "\n",
            "day1    420\n",
            "day2    380\n",
            "dtype: int64\n",
            "\n"
          ]
        }
      ]
    },
    {
      "cell_type": "markdown",
      "source": [
        "DATAFRAMES"
      ],
      "metadata": {
        "id": "a7e09e6ApSKz"
      }
    },
    {
      "cell_type": "code",
      "source": [
        "data = {\n",
        "  \"calories\": [420, 380, 390],\n",
        "  \"duration\": [50, 40, 45]\n",
        "}\n",
        "\n",
        "df = pd.DataFrame(data, index = [\"day1\", \"day2\", \"day3\"])\n",
        "\n",
        "print(df)\n",
        "print()\n",
        "print(df.loc[\"day2\"])\n",
        "print()\n",
        "print(df.loc[[\"day1\", \"day2\"]]) #returns a Panda series\n",
        "df=pd.read_csv('First.csv')\n",
        "print(to_string(df))"
      ],
      "metadata": {
        "colab": {
          "base_uri": "https://localhost:8080/"
        },
        "id": "fuQB54eBpLZr",
        "outputId": "7a2ca89b-3c64-41c2-de91-78cc8f04a838"
      },
      "execution_count": 5,
      "outputs": [
        {
          "output_type": "stream",
          "name": "stdout",
          "text": [
            "      calories  duration\n",
            "day1       420        50\n",
            "day2       380        40\n",
            "day3       390        45\n",
            "\n",
            "calories    380\n",
            "duration     40\n",
            "Name: day2, dtype: int64\n",
            "\n",
            "      calories  duration\n",
            "day1       420        50\n",
            "day2       380        40\n"
          ]
        }
      ]
    },
    {
      "cell_type": "markdown",
      "source": [
        "# ***READING CSV***"
      ],
      "metadata": {
        "id": "UV1K8nj3qKPq"
      }
    },
    {
      "cell_type": "code",
      "source": [
        "!ls\n",
        "# import pandas as pd\n",
        "# df = pd.read_csv('data.csv')\n",
        "# print(df.to_string())"
      ],
      "metadata": {
        "colab": {
          "base_uri": "https://localhost:8080/"
        },
        "id": "iRWF9b-FqQt5",
        "outputId": "7a7618b4-32f9-44e8-d9c5-748c882ab217"
      },
      "execution_count": 5,
      "outputs": [
        {
          "output_type": "stream",
          "name": "stdout",
          "text": [
            "sample_data\n"
          ]
        }
      ]
    },
    {
      "cell_type": "code",
      "source": [
        "import pandas as pd\n",
        "data = {\n",
        "  \"calories\": [420, 380, 390],\n",
        "  \"duration\": [50, 40, 45]\n",
        "}\n",
        "df = pd.DataFrame(data, index = [\"day1\", \"day2\", \"day3\"])\n",
        "\n",
        "df.to_csv('data.csv')\n",
        "!ls\n"
      ],
      "metadata": {
        "colab": {
          "base_uri": "https://localhost:8080/"
        },
        "id": "-oHH0BwuP2CT",
        "outputId": "02908a42-aa67-4056-b4af-7f5eb25d9a3a"
      },
      "execution_count": 5,
      "outputs": [
        {
          "output_type": "stream",
          "name": "stdout",
          "text": [
            "data.csv  sample_data\n"
          ]
        }
      ]
    }
  ]
}